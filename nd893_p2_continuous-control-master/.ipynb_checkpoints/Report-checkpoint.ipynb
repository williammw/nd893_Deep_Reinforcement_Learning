{
 "cells": [
  {
   "cell_type": "markdown",
   "metadata": {},
   "source": [
    "# Report Project 2\n",
    "\n",
    "## Training a DeepRL agent to solve the Unity Single-Reacher"
   ]
  },
  {
   "cell_type": "markdown",
   "metadata": {},
   "source": [
    "First based on the DDPG algroithm, from pendulum excerise, the result are "
   ]
  },
  {
   "cell_type": "markdown",
   "metadata": {},
   "source": [
    "![alt text](output_17_0.png \"Pendulum agent\")"
   ]
  },
  {
   "cell_type": "markdown",
   "metadata": {},
   "source": [
    "total 200 episode with result Average Score: 1.60\tScore: 2.47"
   ]
  },
  {
   "cell_type": "markdown",
   "metadata": {},
   "source": [
    "then modify the DDPG with same 256 mini-batcher, 2 fully connect hidden layers of 128 nodes with learning rate 0.001, replay buffer of 10000and the discount rate of 0.99 and sigma set to 0.1 (the Ornsten-Uhlenbeck noice). soft update of Tau of 0.001"
   ]
  },
  {
   "cell_type": "code",
   "execution_count": null,
   "metadata": {},
   "outputs": [],
   "source": [
    "BUFFER_SIZE = 100000  \n",
    "BATCH_SIZE = 256 \n",
    "GAMMA = 0.99         \n",
    "TAU = 1e-3           \n",
    "LR_ACTOR = 0.001 \n",
    "LR_CRITIC = 0.001 \n",
    "WEIGHT_DECAY = 0.00001 \n",
    "SIGMA = 0.1"
   ]
  },
  {
   "cell_type": "markdown",
   "metadata": {},
   "source": [
    "![alt text](plot_result.png \"FINAL RESULT\")"
   ]
  },
  {
   "cell_type": "markdown",
   "metadata": {},
   "source": [
    "## Ideas for Future Work"
   ]
  },
  {
   "cell_type": "markdown",
   "metadata": {},
   "source": [
    "Solving the task using PPO.\n",
    "The multi-agent case.\n",
    "the Crawler case"
   ]
  },
  {
   "cell_type": "code",
   "execution_count": null,
   "metadata": {},
   "outputs": [],
   "source": []
  }
 ],
 "metadata": {
  "kernelspec": {
   "display_name": "Python 3",
   "language": "python",
   "name": "python3"
  },
  "language_info": {
   "codemirror_mode": {
    "name": "ipython",
    "version": 3
   },
   "file_extension": ".py",
   "mimetype": "text/x-python",
   "name": "python",
   "nbconvert_exporter": "python",
   "pygments_lexer": "ipython3",
   "version": "3.6.8"
  }
 },
 "nbformat": 4,
 "nbformat_minor": 2
}
