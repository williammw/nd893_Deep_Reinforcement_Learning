{
 "cells": [
  {
   "cell_type": "markdown",
   "metadata": {},
   "source": [
    "# Navigation\n",
    "\n",
    "---\n",
    "\n",
    "In this notebook, you will learn how to use the Unity ML-Agents environment for the first project of the [Deep Reinforcement Learning Nanodegree](https://www.udacity.com/course/deep-reinforcement-learning-nanodegree--nd893).\n",
    "\n",
    "### 1. Start the Environment\n",
    "\n",
    "We begin by importing some necessary packages.  If the code cell below returns an error, please revisit the project instructions to double-check that you have installed [Unity ML-Agents](https://github.com/Unity-Technologies/ml-agents/blob/master/docs/Installation.md) and [NumPy](http://www.numpy.org/)."
   ]
  },
  {
   "cell_type": "code",
   "execution_count": 2,
   "metadata": {},
   "outputs": [
    {
     "name": "stdout",
     "output_type": "stream",
     "text": [
      "Requirement already satisfied: mlagents in /Users/manwaiwong/anaconda2/envs/dlnd/lib/python3.6/site-packages (0.6.0)\n",
      "Requirement already satisfied: Pillow>=4.2.1 in /Users/manwaiwong/anaconda2/envs/dlnd/lib/python3.6/site-packages (from mlagents) (5.1.0)\n",
      "Requirement already satisfied: jupyter in /Users/manwaiwong/anaconda2/envs/dlnd/lib/python3.6/site-packages (from mlagents) (1.0.0)\n",
      "Requirement already satisfied: grpcio<1.12.0,>=1.11.0 in /Users/manwaiwong/anaconda2/envs/dlnd/lib/python3.6/site-packages (from mlagents) (1.11.1)\n",
      "Requirement already satisfied: matplotlib in /Users/manwaiwong/anaconda2/envs/dlnd/lib/python3.6/site-packages (from mlagents) (2.1.1)\n",
      "Requirement already satisfied: pytest<4.0.0,>=3.2.2 in /Users/manwaiwong/anaconda2/envs/dlnd/lib/python3.6/site-packages (from mlagents) (3.10.1)\n",
      "Requirement already satisfied: protobuf<3.7,>=3.6 in /Users/manwaiwong/anaconda2/envs/dlnd/lib/python3.6/site-packages (from mlagents) (3.6.1)\n",
      "Requirement already satisfied: tensorflow<1.8,>=1.7 in /Users/manwaiwong/anaconda2/envs/dlnd/lib/python3.6/site-packages (from mlagents) (1.7.1)\n",
      "Requirement already satisfied: numpy<=1.14.5,>=1.13.3 in /Users/manwaiwong/anaconda2/envs/dlnd/lib/python3.6/site-packages (from mlagents) (1.14.2)\n",
      "Requirement already satisfied: docopt in /Users/manwaiwong/anaconda2/envs/dlnd/lib/python3.6/site-packages (from mlagents) (0.6.2)\n",
      "Requirement already satisfied: pyyaml in /Users/manwaiwong/anaconda2/envs/dlnd/lib/python3.6/site-packages (from mlagents) (3.13)\n",
      "Requirement already satisfied: qtconsole in /Users/manwaiwong/anaconda2/envs/dlnd/lib/python3.6/site-packages (from jupyter->mlagents) (4.3.1)\n",
      "Requirement already satisfied: ipywidgets in /Users/manwaiwong/anaconda2/envs/dlnd/lib/python3.6/site-packages (from jupyter->mlagents) (7.1.0)\n",
      "Requirement already satisfied: ipykernel in /Users/manwaiwong/anaconda2/envs/dlnd/lib/python3.6/site-packages (from jupyter->mlagents) (4.7.0)\n",
      "Requirement already satisfied: nbconvert in /Users/manwaiwong/anaconda2/envs/dlnd/lib/python3.6/site-packages (from jupyter->mlagents) (5.3.1)\n",
      "Requirement already satisfied: notebook in /Users/manwaiwong/anaconda2/envs/dlnd/lib/python3.6/site-packages (from jupyter->mlagents) (5.5.0)\n",
      "Requirement already satisfied: jupyter-console in /Users/manwaiwong/anaconda2/envs/dlnd/lib/python3.6/site-packages (from jupyter->mlagents) (5.2.0)\n",
      "Requirement already satisfied: six>=1.5.2 in /Users/manwaiwong/anaconda2/envs/dlnd/lib/python3.6/site-packages (from grpcio<1.12.0,>=1.11.0->mlagents) (1.11.0)\n",
      "Requirement already satisfied: python-dateutil>=2.0 in /Users/manwaiwong/anaconda2/envs/dlnd/lib/python3.6/site-packages (from matplotlib->mlagents) (2.6.1)\n",
      "Requirement already satisfied: pytz in /Users/manwaiwong/anaconda2/envs/dlnd/lib/python3.6/site-packages (from matplotlib->mlagents) (2017.3)\n",
      "Requirement already satisfied: cycler>=0.10 in /Users/manwaiwong/anaconda2/envs/dlnd/lib/python3.6/site-packages (from matplotlib->mlagents) (0.10.0)\n",
      "Requirement already satisfied: pyparsing!=2.0.4,!=2.1.2,!=2.1.6,>=2.0.1 in /Users/manwaiwong/anaconda2/envs/dlnd/lib/python3.6/site-packages (from matplotlib->mlagents) (2.2.0)\n",
      "Requirement already satisfied: setuptools in /Users/manwaiwong/anaconda2/envs/dlnd/lib/python3.6/site-packages (from pytest<4.0.0,>=3.2.2->mlagents) (36.5.0.post20170921)\n",
      "Requirement already satisfied: more-itertools>=4.0.0 in /Users/manwaiwong/anaconda2/envs/dlnd/lib/python3.6/site-packages (from pytest<4.0.0,>=3.2.2->mlagents) (5.0.0)\n",
      "Requirement already satisfied: atomicwrites>=1.0 in /Users/manwaiwong/anaconda2/envs/dlnd/lib/python3.6/site-packages (from pytest<4.0.0,>=3.2.2->mlagents) (1.2.1)\n",
      "Requirement already satisfied: pluggy>=0.7 in /Users/manwaiwong/anaconda2/envs/dlnd/lib/python3.6/site-packages (from pytest<4.0.0,>=3.2.2->mlagents) (0.8.1)\n",
      "Requirement already satisfied: py>=1.5.0 in /Users/manwaiwong/anaconda2/envs/dlnd/lib/python3.6/site-packages (from pytest<4.0.0,>=3.2.2->mlagents) (1.7.0)\n",
      "Requirement already satisfied: attrs>=17.4.0 in /Users/manwaiwong/anaconda2/envs/dlnd/lib/python3.6/site-packages (from pytest<4.0.0,>=3.2.2->mlagents) (18.2.0)\n",
      "Requirement already satisfied: wheel>=0.26 in /Users/manwaiwong/anaconda2/envs/dlnd/lib/python3.6/site-packages (from tensorflow<1.8,>=1.7->mlagents) (0.30.0)\n",
      "Requirement already satisfied: absl-py>=0.1.6 in /Users/manwaiwong/anaconda2/envs/dlnd/lib/python3.6/site-packages (from tensorflow<1.8,>=1.7->mlagents) (0.7.0)\n",
      "Requirement already satisfied: astor>=0.6.0 in /Users/manwaiwong/anaconda2/envs/dlnd/lib/python3.6/site-packages (from tensorflow<1.8,>=1.7->mlagents) (0.7.1)\n",
      "Requirement already satisfied: tensorboard<1.8.0,>=1.7.0 in /Users/manwaiwong/anaconda2/envs/dlnd/lib/python3.6/site-packages (from tensorflow<1.8,>=1.7->mlagents) (1.7.0)\n",
      "Requirement already satisfied: gast>=0.2.0 in /Users/manwaiwong/anaconda2/envs/dlnd/lib/python3.6/site-packages (from tensorflow<1.8,>=1.7->mlagents) (0.2.2)\n",
      "Requirement already satisfied: termcolor>=1.1.0 in /Users/manwaiwong/anaconda2/envs/dlnd/lib/python3.6/site-packages (from tensorflow<1.8,>=1.7->mlagents) (1.1.0)\n",
      "Requirement already satisfied: traitlets>=4.3.1 in /Users/manwaiwong/anaconda2/envs/dlnd/lib/python3.6/site-packages (from ipywidgets->jupyter->mlagents) (4.3.2)\n",
      "Requirement already satisfied: nbformat>=4.2.0 in /Users/manwaiwong/anaconda2/envs/dlnd/lib/python3.6/site-packages (from ipywidgets->jupyter->mlagents) (4.4.0)\n",
      "Requirement already satisfied: widgetsnbextension~=3.1.0 in /Users/manwaiwong/anaconda2/envs/dlnd/lib/python3.6/site-packages (from ipywidgets->jupyter->mlagents) (3.1.0)\n",
      "Requirement already satisfied: ipython>=4.0.0 in /Users/manwaiwong/anaconda2/envs/dlnd/lib/python3.6/site-packages (from ipywidgets->jupyter->mlagents) (6.2.1)\n",
      "Requirement already satisfied: jupyter_client in /Users/manwaiwong/anaconda2/envs/dlnd/lib/python3.6/site-packages (from ipykernel->jupyter->mlagents) (5.2.1)\n",
      "Requirement already satisfied: tornado>=4.0 in /Users/manwaiwong/anaconda2/envs/dlnd/lib/python3.6/site-packages (from ipykernel->jupyter->mlagents) (4.5.3)\n",
      "Requirement already satisfied: mistune>=0.7.4 in /Users/manwaiwong/anaconda2/envs/dlnd/lib/python3.6/site-packages (from nbconvert->jupyter->mlagents) (0.8.3)\n",
      "Requirement already satisfied: jinja2 in /Users/manwaiwong/anaconda2/envs/dlnd/lib/python3.6/site-packages (from nbconvert->jupyter->mlagents) (2.10)\n",
      "Requirement already satisfied: pygments in /Users/manwaiwong/anaconda2/envs/dlnd/lib/python3.6/site-packages (from nbconvert->jupyter->mlagents) (2.2.0)\n",
      "Requirement already satisfied: jupyter_core in /Users/manwaiwong/anaconda2/envs/dlnd/lib/python3.6/site-packages (from nbconvert->jupyter->mlagents) (4.4.0)\n",
      "Requirement already satisfied: entrypoints>=0.2.2 in /Users/manwaiwong/anaconda2/envs/dlnd/lib/python3.6/site-packages (from nbconvert->jupyter->mlagents) (0.2.3)\n",
      "Requirement already satisfied: bleach in /Users/manwaiwong/anaconda2/envs/dlnd/lib/python3.6/site-packages (from nbconvert->jupyter->mlagents) (1.5.0)\n",
      "Requirement already satisfied: pandocfilters>=1.4.1 in /Users/manwaiwong/anaconda2/envs/dlnd/lib/python3.6/site-packages (from nbconvert->jupyter->mlagents) (1.4.2)\n",
      "Requirement already satisfied: testpath in /Users/manwaiwong/anaconda2/envs/dlnd/lib/python3.6/site-packages (from nbconvert->jupyter->mlagents) (0.3.1)\n",
      "Requirement already satisfied: Send2Trash in /Users/manwaiwong/anaconda2/envs/dlnd/lib/python3.6/site-packages (from notebook->jupyter->mlagents) (1.4.2)\n",
      "Requirement already satisfied: ipython-genutils in /Users/manwaiwong/anaconda2/envs/dlnd/lib/python3.6/site-packages (from notebook->jupyter->mlagents) (0.2.0)\n",
      "Requirement already satisfied: pyzmq>=17 in /Users/manwaiwong/anaconda2/envs/dlnd/lib/python3.6/site-packages (from notebook->jupyter->mlagents) (17.0.0)\n",
      "Requirement already satisfied: terminado>=0.8.1 in /Users/manwaiwong/anaconda2/envs/dlnd/lib/python3.6/site-packages (from notebook->jupyter->mlagents) (0.8.1)\n",
      "Requirement already satisfied: prompt_toolkit<2.0.0,>=1.0.0 in /Users/manwaiwong/anaconda2/envs/dlnd/lib/python3.6/site-packages (from jupyter-console->jupyter->mlagents) (1.0.15)\n",
      "Requirement already satisfied: html5lib==0.9999999 in /Users/manwaiwong/anaconda2/envs/dlnd/lib/python3.6/site-packages (from tensorboard<1.8.0,>=1.7.0->tensorflow<1.8,>=1.7->mlagents) (0.9999999)\n"
     ]
    },
    {
     "name": "stdout",
     "output_type": "stream",
     "text": [
      "Requirement already satisfied: werkzeug>=0.11.10 in /Users/manwaiwong/anaconda2/envs/dlnd/lib/python3.6/site-packages (from tensorboard<1.8.0,>=1.7.0->tensorflow<1.8,>=1.7->mlagents) (0.14.1)\r\n",
      "Requirement already satisfied: markdown>=2.6.8 in /Users/manwaiwong/anaconda2/envs/dlnd/lib/python3.6/site-packages (from tensorboard<1.8.0,>=1.7.0->tensorflow<1.8,>=1.7->mlagents) (3.0.1)\r\n",
      "Requirement already satisfied: decorator in /Users/manwaiwong/anaconda2/envs/dlnd/lib/python3.6/site-packages (from traitlets>=4.3.1->ipywidgets->jupyter->mlagents) (4.2.1)\r\n",
      "Requirement already satisfied: jsonschema!=2.5.0,>=2.4 in /Users/manwaiwong/anaconda2/envs/dlnd/lib/python3.6/site-packages (from nbformat>=4.2.0->ipywidgets->jupyter->mlagents) (2.6.0)\r\n",
      "Requirement already satisfied: jedi>=0.10 in /Users/manwaiwong/anaconda2/envs/dlnd/lib/python3.6/site-packages (from ipython>=4.0.0->ipywidgets->jupyter->mlagents) (0.11.1)\r\n",
      "Requirement already satisfied: pickleshare in /Users/manwaiwong/anaconda2/envs/dlnd/lib/python3.6/site-packages (from ipython>=4.0.0->ipywidgets->jupyter->mlagents) (0.7.4)\r\n",
      "Requirement already satisfied: simplegeneric>0.8 in /Users/manwaiwong/anaconda2/envs/dlnd/lib/python3.6/site-packages (from ipython>=4.0.0->ipywidgets->jupyter->mlagents) (0.8.1)\r\n",
      "Requirement already satisfied: appnope in /Users/manwaiwong/anaconda2/envs/dlnd/lib/python3.6/site-packages (from ipython>=4.0.0->ipywidgets->jupyter->mlagents) (0.1.0)\r\n",
      "Requirement already satisfied: pexpect in /Users/manwaiwong/anaconda2/envs/dlnd/lib/python3.6/site-packages (from ipython>=4.0.0->ipywidgets->jupyter->mlagents) (4.3.1)\r\n",
      "Requirement already satisfied: MarkupSafe>=0.23 in /Users/manwaiwong/anaconda2/envs/dlnd/lib/python3.6/site-packages (from jinja2->nbconvert->jupyter->mlagents) (1.0)\r\n",
      "Requirement already satisfied: wcwidth in /Users/manwaiwong/anaconda2/envs/dlnd/lib/python3.6/site-packages (from prompt_toolkit<2.0.0,>=1.0.0->jupyter-console->jupyter->mlagents) (0.1.7)\r\n",
      "Requirement already satisfied: parso==0.1.* in /Users/manwaiwong/anaconda2/envs/dlnd/lib/python3.6/site-packages (from jedi>=0.10->ipython>=4.0.0->ipywidgets->jupyter->mlagents) (0.1.1)\r\n"
     ]
    }
   ],
   "source": [
    "!pip install mlagents"
   ]
  },
  {
   "cell_type": "code",
   "execution_count": 5,
   "metadata": {},
   "outputs": [],
   "source": [
    "#from unityagents import UnityEnvironment\n",
    "from mlagents.envs import UnityEnvironment\n",
    "import numpy as np"
   ]
  },
  {
   "cell_type": "markdown",
   "metadata": {},
   "source": [
    "Next, we will start the environment!  **_Before running the code cell below_**, change the `file_name` parameter to match the location of the Unity environment that you downloaded.\n",
    "\n",
    "- **Mac**: `\"path/to/Banana.app\"`\n",
    "- **Windows** (x86): `\"path/to/Banana_Windows_x86/Banana.exe\"`\n",
    "- **Windows** (x86_64): `\"path/to/Banana_Windows_x86_64/Banana.exe\"`\n",
    "- **Linux** (x86): `\"path/to/Banana_Linux/Banana.x86\"`\n",
    "- **Linux** (x86_64): `\"path/to/Banana_Linux/Banana.x86_64\"`\n",
    "- **Linux** (x86, headless): `\"path/to/Banana_Linux_NoVis/Banana.x86\"`\n",
    "- **Linux** (x86_64, headless): `\"path/to/Banana_Linux_NoVis/Banana.x86_64\"`\n",
    "\n",
    "For instance, if you are using a Mac, then you downloaded `Banana.app`.  If this file is in the same folder as the notebook, then the line below should appear as follows:\n",
    "```\n",
    "env = UnityEnvironment(file_name=\"Banana.app\")\n",
    "```"
   ]
  },
  {
   "cell_type": "code",
   "execution_count": null,
   "metadata": {},
   "outputs": [],
   "source": [
    "env = UnityEnvironment(file_name=\"...\")"
   ]
  },
  {
   "cell_type": "markdown",
   "metadata": {},
   "source": [
    "Environments contain **_brains_** which are responsible for deciding the actions of their associated agents. Here we check for the first brain available, and set it as the default brain we will be controlling from Python."
   ]
  },
  {
   "cell_type": "code",
   "execution_count": null,
   "metadata": {},
   "outputs": [],
   "source": [
    "# get the default brain\n",
    "brain_name = env.brain_names[0]\n",
    "brain = env.brains[brain_name]"
   ]
  },
  {
   "cell_type": "markdown",
   "metadata": {},
   "source": [
    "### 2. Examine the State and Action Spaces\n",
    "\n",
    "The simulation contains a single agent that navigates a large environment.  At each time step, it has four actions at its disposal:\n",
    "- `0` - walk forward \n",
    "- `1` - walk backward\n",
    "- `2` - turn left\n",
    "- `3` - turn right\n",
    "\n",
    "The state space has `37` dimensions and contains the agent's velocity, along with ray-based perception of objects around agent's forward direction.  A reward of `+1` is provided for collecting a yellow banana, and a reward of `-1` is provided for collecting a blue banana. \n",
    "\n",
    "Run the code cell below to print some information about the environment."
   ]
  },
  {
   "cell_type": "code",
   "execution_count": null,
   "metadata": {},
   "outputs": [],
   "source": [
    "# reset the environment\n",
    "env_info = env.reset(train_mode=True)[brain_name]\n",
    "\n",
    "# number of agents in the environment\n",
    "print('Number of agents:', len(env_info.agents))\n",
    "\n",
    "# number of actions\n",
    "action_size = brain.vector_action_space_size\n",
    "print('Number of actions:', action_size)\n",
    "\n",
    "# examine the state space \n",
    "state = env_info.vector_observations[0]\n",
    "print('States look like:', state)\n",
    "state_size = len(state)\n",
    "print('States have length:', state_size)"
   ]
  },
  {
   "cell_type": "markdown",
   "metadata": {},
   "source": [
    "### 3. Take Random Actions in the Environment\n",
    "\n",
    "In the next code cell, you will learn how to use the Python API to control the agent and receive feedback from the environment.\n",
    "\n",
    "Once this cell is executed, you will watch the agent's performance, if it selects an action (uniformly) at random with each time step.  A window should pop up that allows you to observe the agent, as it moves through the environment.  \n",
    "\n",
    "Of course, as part of the project, you'll have to change the code so that the agent is able to use its experience to gradually choose better actions when interacting with the environment!"
   ]
  },
  {
   "cell_type": "code",
   "execution_count": null,
   "metadata": {},
   "outputs": [],
   "source": [
    "env_info = env.reset(train_mode=False)[brain_name] # reset the environment\n",
    "state = env_info.vector_observations[0]            # get the current state\n",
    "score = 0                                          # initialize the score\n",
    "while True:\n",
    "    action = np.random.randint(action_size)        # select an action\n",
    "    env_info = env.step(action)[brain_name]        # send the action to the environment\n",
    "    next_state = env_info.vector_observations[0]   # get the next state\n",
    "    reward = env_info.rewards[0]                   # get the reward\n",
    "    done = env_info.local_done[0]                  # see if episode has finished\n",
    "    score += reward                                # update the score\n",
    "    state = next_state                             # roll over the state to next time step\n",
    "    if done:                                       # exit loop if episode finished\n",
    "        break\n",
    "    \n",
    "print(\"Score: {}\".format(score))"
   ]
  },
  {
   "cell_type": "markdown",
   "metadata": {},
   "source": [
    "When finished, you can close the environment."
   ]
  },
  {
   "cell_type": "code",
   "execution_count": null,
   "metadata": {},
   "outputs": [],
   "source": [
    "env.close()"
   ]
  },
  {
   "cell_type": "markdown",
   "metadata": {},
   "source": [
    "### 4. It's Your Turn!\n",
    "\n",
    "Now it's your turn to train your own agent to solve the environment!  When training the environment, set `train_mode=True`, so that the line for resetting the environment looks like the following:\n",
    "```python\n",
    "env_info = env.reset(train_mode=True)[brain_name]\n",
    "```"
   ]
  }
 ],
 "metadata": {
  "kernelspec": {
   "display_name": "Python 3",
   "language": "python",
   "name": "python3"
  },
  "language_info": {
   "codemirror_mode": {
    "name": "ipython",
    "version": 3
   },
   "file_extension": ".py",
   "mimetype": "text/x-python",
   "name": "python",
   "nbconvert_exporter": "python",
   "pygments_lexer": "ipython3",
   "version": "3.6.8"
  }
 },
 "nbformat": 4,
 "nbformat_minor": 2
}
