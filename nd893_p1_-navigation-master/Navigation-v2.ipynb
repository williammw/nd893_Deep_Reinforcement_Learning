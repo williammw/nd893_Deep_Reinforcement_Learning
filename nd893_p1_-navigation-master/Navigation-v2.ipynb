{
 "cells": [
  {
   "cell_type": "markdown",
   "metadata": {},
   "source": [
    "# Navigation\n",
    "\n",
    "---\n",
    "\n",
    "You are welcome to use this coding environment to train your agent for the project.  Follow the instructions below to get started!\n",
    "\n",
    "### 1. Start the Environment\n",
    "\n",
    "Run the next code cell to install a few packages.  This line will take a few minutes to run!"
   ]
  },
  {
   "cell_type": "code",
   "execution_count": 1,
   "metadata": {},
   "outputs": [
    {
     "name": "stdout",
     "output_type": "stream",
     "text": [
      "Requirement already satisfied: unityagents in /Users/manwaiwong/anaconda2/envs/dlnd/lib/python3.6/site-packages (0.4.0)\n",
      "Requirement already satisfied: docopt in /Users/manwaiwong/anaconda2/envs/dlnd/lib/python3.6/site-packages (from unityagents) (0.6.2)\n",
      "Requirement already satisfied: protobuf==3.5.2 in /Users/manwaiwong/anaconda2/envs/dlnd/lib/python3.6/site-packages (from unityagents) (3.5.2)\n",
      "Requirement already satisfied: grpcio==1.11.0 in /Users/manwaiwong/anaconda2/envs/dlnd/lib/python3.6/site-packages (from unityagents) (1.11.0)\n",
      "Requirement already satisfied: pytest>=3.2.2 in /Users/manwaiwong/anaconda2/envs/dlnd/lib/python3.6/site-packages (from unityagents) (3.10.1)\n",
      "Requirement already satisfied: jupyter in /Users/manwaiwong/anaconda2/envs/dlnd/lib/python3.6/site-packages (from unityagents) (1.0.0)\n",
      "Requirement already satisfied: matplotlib in /Users/manwaiwong/anaconda2/envs/dlnd/lib/python3.6/site-packages (from unityagents) (2.1.1)\n",
      "Requirement already satisfied: pyyaml in /Users/manwaiwong/anaconda2/envs/dlnd/lib/python3.6/site-packages (from unityagents) (3.13)\n",
      "Requirement already satisfied: numpy>=1.11.0 in /Users/manwaiwong/anaconda2/envs/dlnd/lib/python3.6/site-packages (from unityagents) (1.14.2)\n",
      "Requirement already satisfied: Pillow>=4.2.1 in /Users/manwaiwong/anaconda2/envs/dlnd/lib/python3.6/site-packages (from unityagents) (5.1.0)\n",
      "Requirement already satisfied: tensorflow==1.7.1 in /Users/manwaiwong/anaconda2/envs/dlnd/lib/python3.6/site-packages (from unityagents) (1.7.1)\n",
      "Requirement already satisfied: setuptools in /Users/manwaiwong/anaconda2/envs/dlnd/lib/python3.6/site-packages (from protobuf==3.5.2->unityagents) (36.5.0.post20170921)\n",
      "Requirement already satisfied: six>=1.9 in /Users/manwaiwong/anaconda2/envs/dlnd/lib/python3.6/site-packages (from protobuf==3.5.2->unityagents) (1.11.0)\n",
      "Requirement already satisfied: pluggy>=0.7 in /Users/manwaiwong/anaconda2/envs/dlnd/lib/python3.6/site-packages (from pytest>=3.2.2->unityagents) (0.8.1)\n",
      "Requirement already satisfied: py>=1.5.0 in /Users/manwaiwong/anaconda2/envs/dlnd/lib/python3.6/site-packages (from pytest>=3.2.2->unityagents) (1.7.0)\n",
      "Requirement already satisfied: atomicwrites>=1.0 in /Users/manwaiwong/anaconda2/envs/dlnd/lib/python3.6/site-packages (from pytest>=3.2.2->unityagents) (1.2.1)\n",
      "Requirement already satisfied: more-itertools>=4.0.0 in /Users/manwaiwong/anaconda2/envs/dlnd/lib/python3.6/site-packages (from pytest>=3.2.2->unityagents) (5.0.0)\n",
      "Requirement already satisfied: attrs>=17.4.0 in /Users/manwaiwong/anaconda2/envs/dlnd/lib/python3.6/site-packages (from pytest>=3.2.2->unityagents) (18.2.0)\n",
      "Requirement already satisfied: notebook in /Users/manwaiwong/anaconda2/envs/dlnd/lib/python3.6/site-packages (from jupyter->unityagents) (5.5.0)\n",
      "Requirement already satisfied: ipykernel in /Users/manwaiwong/anaconda2/envs/dlnd/lib/python3.6/site-packages (from jupyter->unityagents) (4.7.0)\n",
      "Requirement already satisfied: qtconsole in /Users/manwaiwong/anaconda2/envs/dlnd/lib/python3.6/site-packages (from jupyter->unityagents) (4.3.1)\n",
      "Requirement already satisfied: ipywidgets in /Users/manwaiwong/anaconda2/envs/dlnd/lib/python3.6/site-packages (from jupyter->unityagents) (7.1.0)\n",
      "Requirement already satisfied: nbconvert in /Users/manwaiwong/anaconda2/envs/dlnd/lib/python3.6/site-packages (from jupyter->unityagents) (5.3.1)\n",
      "Requirement already satisfied: jupyter-console in /Users/manwaiwong/anaconda2/envs/dlnd/lib/python3.6/site-packages (from jupyter->unityagents) (5.2.0)\n",
      "Requirement already satisfied: python-dateutil>=2.0 in /Users/manwaiwong/anaconda2/envs/dlnd/lib/python3.6/site-packages (from matplotlib->unityagents) (2.6.1)\n",
      "Requirement already satisfied: pytz in /Users/manwaiwong/anaconda2/envs/dlnd/lib/python3.6/site-packages (from matplotlib->unityagents) (2017.3)\n",
      "Requirement already satisfied: cycler>=0.10 in /Users/manwaiwong/anaconda2/envs/dlnd/lib/python3.6/site-packages (from matplotlib->unityagents) (0.10.0)\n",
      "Requirement already satisfied: pyparsing!=2.0.4,!=2.1.2,!=2.1.6,>=2.0.1 in /Users/manwaiwong/anaconda2/envs/dlnd/lib/python3.6/site-packages (from matplotlib->unityagents) (2.2.0)\n",
      "Requirement already satisfied: absl-py>=0.1.6 in /Users/manwaiwong/anaconda2/envs/dlnd/lib/python3.6/site-packages (from tensorflow==1.7.1->unityagents) (0.7.0)\n",
      "Requirement already satisfied: termcolor>=1.1.0 in /Users/manwaiwong/anaconda2/envs/dlnd/lib/python3.6/site-packages (from tensorflow==1.7.1->unityagents) (1.1.0)\n",
      "Requirement already satisfied: tensorboard<1.8.0,>=1.7.0 in /Users/manwaiwong/anaconda2/envs/dlnd/lib/python3.6/site-packages (from tensorflow==1.7.1->unityagents) (1.7.0)\n",
      "Requirement already satisfied: wheel>=0.26 in /Users/manwaiwong/anaconda2/envs/dlnd/lib/python3.6/site-packages (from tensorflow==1.7.1->unityagents) (0.30.0)\n",
      "Requirement already satisfied: gast>=0.2.0 in /Users/manwaiwong/anaconda2/envs/dlnd/lib/python3.6/site-packages (from tensorflow==1.7.1->unityagents) (0.2.2)\n",
      "Requirement already satisfied: astor>=0.6.0 in /Users/manwaiwong/anaconda2/envs/dlnd/lib/python3.6/site-packages (from tensorflow==1.7.1->unityagents) (0.7.1)\n",
      "Requirement already satisfied: traitlets>=4.2.1 in /Users/manwaiwong/anaconda2/envs/dlnd/lib/python3.6/site-packages (from notebook->jupyter->unityagents) (4.3.2)\n",
      "Requirement already satisfied: jinja2 in /Users/manwaiwong/anaconda2/envs/dlnd/lib/python3.6/site-packages (from notebook->jupyter->unityagents) (2.10)\n",
      "Requirement already satisfied: Send2Trash in /Users/manwaiwong/anaconda2/envs/dlnd/lib/python3.6/site-packages (from notebook->jupyter->unityagents) (1.4.2)\n",
      "Requirement already satisfied: jupyter-core>=4.4.0 in /Users/manwaiwong/anaconda2/envs/dlnd/lib/python3.6/site-packages (from notebook->jupyter->unityagents) (4.4.0)\n",
      "Requirement already satisfied: nbformat in /Users/manwaiwong/anaconda2/envs/dlnd/lib/python3.6/site-packages (from notebook->jupyter->unityagents) (4.4.0)\n",
      "Requirement already satisfied: jupyter-client>=5.2.0 in /Users/manwaiwong/anaconda2/envs/dlnd/lib/python3.6/site-packages (from notebook->jupyter->unityagents) (5.2.1)\n",
      "Requirement already satisfied: terminado>=0.8.1 in /Users/manwaiwong/anaconda2/envs/dlnd/lib/python3.6/site-packages (from notebook->jupyter->unityagents) (0.8.1)\n",
      "Requirement already satisfied: pyzmq>=17 in /Users/manwaiwong/anaconda2/envs/dlnd/lib/python3.6/site-packages (from notebook->jupyter->unityagents) (17.0.0)\n",
      "Requirement already satisfied: ipython-genutils in /Users/manwaiwong/anaconda2/envs/dlnd/lib/python3.6/site-packages (from notebook->jupyter->unityagents) (0.2.0)\n",
      "Requirement already satisfied: tornado>=4 in /Users/manwaiwong/anaconda2/envs/dlnd/lib/python3.6/site-packages (from notebook->jupyter->unityagents) (4.5.3)\n",
      "Requirement already satisfied: ipython>=4.0.0 in /Users/manwaiwong/anaconda2/envs/dlnd/lib/python3.6/site-packages (from ipykernel->jupyter->unityagents) (6.2.1)\n",
      "Requirement already satisfied: widgetsnbextension~=3.1.0 in /Users/manwaiwong/anaconda2/envs/dlnd/lib/python3.6/site-packages (from ipywidgets->jupyter->unityagents) (3.1.0)\n",
      "Requirement already satisfied: mistune>=0.7.4 in /Users/manwaiwong/anaconda2/envs/dlnd/lib/python3.6/site-packages (from nbconvert->jupyter->unityagents) (0.8.3)\n",
      "Requirement already satisfied: pygments in /Users/manwaiwong/anaconda2/envs/dlnd/lib/python3.6/site-packages (from nbconvert->jupyter->unityagents) (2.2.0)\n",
      "Requirement already satisfied: entrypoints>=0.2.2 in /Users/manwaiwong/anaconda2/envs/dlnd/lib/python3.6/site-packages (from nbconvert->jupyter->unityagents) (0.2.3)\n",
      "Requirement already satisfied: bleach in /Users/manwaiwong/anaconda2/envs/dlnd/lib/python3.6/site-packages (from nbconvert->jupyter->unityagents) (1.5.0)\n",
      "Requirement already satisfied: pandocfilters>=1.4.1 in /Users/manwaiwong/anaconda2/envs/dlnd/lib/python3.6/site-packages (from nbconvert->jupyter->unityagents) (1.4.2)\n",
      "Requirement already satisfied: testpath in /Users/manwaiwong/anaconda2/envs/dlnd/lib/python3.6/site-packages (from nbconvert->jupyter->unityagents) (0.3.1)\n",
      "Requirement already satisfied: prompt_toolkit<2.0.0,>=1.0.0 in /Users/manwaiwong/anaconda2/envs/dlnd/lib/python3.6/site-packages (from jupyter-console->jupyter->unityagents) (1.0.15)\n",
      "Requirement already satisfied: werkzeug>=0.11.10 in /Users/manwaiwong/anaconda2/envs/dlnd/lib/python3.6/site-packages (from tensorboard<1.8.0,>=1.7.0->tensorflow==1.7.1->unityagents) (0.14.1)\n",
      "Requirement already satisfied: html5lib==0.9999999 in /Users/manwaiwong/anaconda2/envs/dlnd/lib/python3.6/site-packages (from tensorboard<1.8.0,>=1.7.0->tensorflow==1.7.1->unityagents) (0.9999999)\n",
      "Requirement already satisfied: markdown>=2.6.8 in /Users/manwaiwong/anaconda2/envs/dlnd/lib/python3.6/site-packages (from tensorboard<1.8.0,>=1.7.0->tensorflow==1.7.1->unityagents) (3.0.1)\n"
     ]
    },
    {
     "name": "stdout",
     "output_type": "stream",
     "text": [
      "Requirement already satisfied: decorator in /Users/manwaiwong/anaconda2/envs/dlnd/lib/python3.6/site-packages (from traitlets>=4.2.1->notebook->jupyter->unityagents) (4.2.1)\r\n",
      "Requirement already satisfied: MarkupSafe>=0.23 in /Users/manwaiwong/anaconda2/envs/dlnd/lib/python3.6/site-packages (from jinja2->notebook->jupyter->unityagents) (1.0)\r\n",
      "Requirement already satisfied: jsonschema!=2.5.0,>=2.4 in /Users/manwaiwong/anaconda2/envs/dlnd/lib/python3.6/site-packages (from nbformat->notebook->jupyter->unityagents) (2.6.0)\r\n",
      "Requirement already satisfied: jedi>=0.10 in /Users/manwaiwong/anaconda2/envs/dlnd/lib/python3.6/site-packages (from ipython>=4.0.0->ipykernel->jupyter->unityagents) (0.11.1)\r\n",
      "Requirement already satisfied: pickleshare in /Users/manwaiwong/anaconda2/envs/dlnd/lib/python3.6/site-packages (from ipython>=4.0.0->ipykernel->jupyter->unityagents) (0.7.4)\r\n",
      "Requirement already satisfied: simplegeneric>0.8 in /Users/manwaiwong/anaconda2/envs/dlnd/lib/python3.6/site-packages (from ipython>=4.0.0->ipykernel->jupyter->unityagents) (0.8.1)\r\n",
      "Requirement already satisfied: appnope in /Users/manwaiwong/anaconda2/envs/dlnd/lib/python3.6/site-packages (from ipython>=4.0.0->ipykernel->jupyter->unityagents) (0.1.0)\r\n",
      "Requirement already satisfied: pexpect in /Users/manwaiwong/anaconda2/envs/dlnd/lib/python3.6/site-packages (from ipython>=4.0.0->ipykernel->jupyter->unityagents) (4.3.1)\r\n",
      "Requirement already satisfied: wcwidth in /Users/manwaiwong/anaconda2/envs/dlnd/lib/python3.6/site-packages (from prompt_toolkit<2.0.0,>=1.0.0->jupyter-console->jupyter->unityagents) (0.1.7)\r\n",
      "Requirement already satisfied: parso==0.1.* in /Users/manwaiwong/anaconda2/envs/dlnd/lib/python3.6/site-packages (from jedi>=0.10->ipython>=4.0.0->ipykernel->jupyter->unityagents) (0.1.1)\r\n"
     ]
    }
   ],
   "source": [
    "#!pip -q install ./python\n",
    "#!pip install mlagents\n",
    "!pip install unityagents"
   ]
  },
  {
   "cell_type": "markdown",
   "metadata": {},
   "source": [
    "The environment is already saved in the Workspace and can be accessed at the file path provided below.  Please run the next code cell without making any changes."
   ]
  },
  {
   "cell_type": "code",
   "execution_count": 2,
   "metadata": {},
   "outputs": [
    {
     "name": "stderr",
     "output_type": "stream",
     "text": [
      "INFO:unityagents:\n",
      "'Academy' started successfully!\n",
      "Unity Academy name: Academy\n",
      "        Number of Brains: 1\n",
      "        Number of External Brains : 1\n",
      "        Lesson number : 0\n",
      "        Reset Parameters :\n",
      "\t\t\n",
      "Unity brain name: BananaBrain\n",
      "        Number of Visual Observations (per agent): 0\n",
      "        Vector Observation space type: continuous\n",
      "        Vector Observation space size (per agent): 37\n",
      "        Number of stacked Vector Observation: 1\n",
      "        Vector Action space type: discrete\n",
      "        Vector Action space size (per agent): 4\n",
      "        Vector Action descriptions: , , , \n"
     ]
    }
   ],
   "source": [
    "#from unityagents import UnityEnvironment\n",
    "from unityagents import UnityEnvironment\n",
    "import numpy as np\n",
    "\n",
    "# please do not modify the line below\n",
    "#env = UnityEnvironment(file_name=\"Banana_Linux_NoVis/Banana.x86_64\")\n",
    "env = UnityEnvironment(file_name=\"Banana\")\n"
   ]
  },
  {
   "cell_type": "markdown",
   "metadata": {},
   "source": [
    "Environments contain **_brains_** which are responsible for deciding the actions of their associated agents. Here we check for the first brain available, and set it as the default brain we will be controlling from Python."
   ]
  },
  {
   "cell_type": "code",
   "execution_count": null,
   "metadata": {},
   "outputs": [],
   "source": [
    "# get the default brain\n",
    "brain_name = env.brain_names[0]\n",
    "brain = env.brains[brain_name]"
   ]
  },
  {
   "cell_type": "markdown",
   "metadata": {},
   "source": [
    "### 2. Examine the State and Action Spaces\n",
    "\n",
    "Run the code cell below to print some information about the environment."
   ]
  },
  {
   "cell_type": "code",
   "execution_count": null,
   "metadata": {},
   "outputs": [],
   "source": [
    "# reset the environment\n",
    "env_info = env.reset(train_mode=True)[brain_name]\n",
    "\n",
    "# number of agents in the environment\n",
    "print('Number of agents:', len(env_info.agents))\n",
    "\n",
    "# number of actions\n",
    "action_size = brain.vector_action_space_size\n",
    "print('Number of actions:', action_size)\n",
    "\n",
    "# examine the state space \n",
    "state = env_info.vector_observations[0]\n",
    "print('States look like:', state)\n",
    "state_size = len(state)\n",
    "print('States have length:', state_size)"
   ]
  },
  {
   "cell_type": "markdown",
   "metadata": {},
   "source": [
    "### 3. Take Random Actions in the Environment\n",
    "\n",
    "In the next code cell, you will learn how to use the Python API to control the agent and receive feedback from the environment.\n",
    "\n",
    "Note that **in this coding environment, you will not be able to watch the agent while it is training**, and you should set `train_mode=True` to restart the environment."
   ]
  },
  {
   "cell_type": "code",
   "execution_count": null,
   "metadata": {},
   "outputs": [],
   "source": [
    "env_info = env.reset(train_mode=True)[brain_name] # reset the environment\n",
    "state = env_info.vector_observations[0]            # get the current state\n",
    "score = 0                                          # initialize the score\n",
    "while True:\n",
    "    action = np.random.randint(action_size)        # select an action\n",
    "    env_info = env.step(action)[brain_name]        # send the action to the environment\n",
    "    next_state = env_info.vector_observations[0]   # get the next state\n",
    "    reward = env_info.rewards[0]                   # get the reward\n",
    "    done = env_info.local_done[0]                  # see if episode has finished\n",
    "    score += reward                                # update the score\n",
    "    state = next_state                             # roll over the state to next time step\n",
    "    if done:                                       # exit loop if episode finished\n",
    "        break\n",
    "    \n",
    "print(\"Score: {}\".format(score))"
   ]
  },
  {
   "cell_type": "markdown",
   "metadata": {},
   "source": [
    "When finished, you can close the environment."
   ]
  },
  {
   "cell_type": "code",
   "execution_count": null,
   "metadata": {},
   "outputs": [],
   "source": [
    "env.close()"
   ]
  },
  {
   "cell_type": "markdown",
   "metadata": {},
   "source": [
    "### 4. It's Your Turn!\n",
    "\n",
    "Now it's your turn to train your own agent to solve the environment!  A few **important notes**:\n",
    "- When training the environment, set `train_mode=True`, so that the line for resetting the environment looks like the following:\n",
    "```python\n",
    "env_info = env.reset(train_mode=True)[brain_name]\n",
    "```\n",
    "- To structure your work, you're welcome to work directly in this Jupyter notebook, or you might like to start over with a new file!  You can see the list of files in the workspace by clicking on **_Jupyter_** in the top left corner of the notebook.\n",
    "- In this coding environment, you will not be able to watch the agent while it is training.  However, **_after training the agent_**, you can download the saved model weights to watch the agent on your own machine! "
   ]
  },
  {
   "cell_type": "code",
   "execution_count": 3,
   "metadata": {},
   "outputs": [],
   "source": [
    "import torch\n",
    "import numpy as np\n",
    "from collections import deque\n",
    "import matplotlib.pyplot as plt\n",
    "%matplotlib inline\n",
    "#from unityagents import UnityEnvironment\n",
    "\n",
    "#\n",
    "from dqn_agent import Agent"
   ]
  },
  {
   "cell_type": "code",
   "execution_count": 4,
   "metadata": {},
   "outputs": [],
   "source": [
    "def dqn(env, n_episodes=2000, max_t=1000, eps_start=1.0, eps_end=0.01, eps_decay=0.995):\n",
    "    \"\"\"Deep Q-Learning.\n",
    "    \n",
    "    Params\n",
    "    ======\n",
    "        env (Unity Environment): environment \n",
    "        n_episodes (int): maximum number of training episodes\n",
    "        max_t (int): maximum number of timesteps per episode\n",
    "        eps_start (float): starting value of epsilon, for epsilon-greedy action selection\n",
    "        eps_end (float): minimum value of epsilon\n",
    "        eps_decay (float): multiplicative factor (per episode) for decreasing epsilon\n",
    "    \"\"\"\n",
    "    scores = []                        # list containing scores from each episode\n",
    "    scores_window = deque(maxlen=100)  # last 100 scores\n",
    "    eps = eps_start                    # initialize epsilon\n",
    "    solved = False\n",
    "    for i_episode in range(1, n_episodes+1):\n",
    "        # reset env\n",
    "        env_info = env.reset(train_mode=True)[brain_name]\n",
    "        state =  env_info.vector_observations[0]\n",
    "        score = 0\n",
    "        for t in range(max_t):\n",
    "            action = agent.act(state, eps)\n",
    "            env_info = env.step(action)[brain_name]\n",
    "            next_state = env_info.vector_observations[0]\n",
    "            reward = env_info.rewards[0] \n",
    "            done = env_info.local_done[0]\n",
    "            \n",
    "            agent.step(state, action, reward, next_state, done)\n",
    "            state = next_state\n",
    "            score += reward\n",
    "            if done:\n",
    "                break \n",
    "        scores_window.append(score)       # save most recent score\n",
    "        scores.append(score)              # save most recent score\n",
    "        eps = max(eps_end, eps_decay*eps) # decrease epsilon\n",
    "        \n",
    "        \n",
    "        # Log progress\n",
    "        print('\\rEpisode {}\\tAverage Score: {:.2f}'.format(i_episode, np.mean(scores_window)), end=\"\")\n",
    "        if i_episode % 100 == 0:\n",
    "            print('\\rEpisode {}\\tAverage Score: {:.2f}'.format(i_episode, np.mean(scores_window)))\n",
    "        if np.mean(scores_window)>=13.0 and not solved:\n",
    "            solved = True\n",
    "            print('\\nEnvironment solved in {:d} episodes!\\tAverage Score: {:.2f}'.format(i_episode-100, np.mean(scores_window)))\n",
    "            torch.save(agent.qnetwork_local.state_dict(), 'checkpointd.pth')\n",
    "    return scores"
   ]
  },
  {
   "cell_type": "code",
   "execution_count": 5,
   "metadata": {},
   "outputs": [],
   "source": [
    "brain_name = env.brain_names[0]\n",
    "brain = env.brains[brain_name]\n",
    "env_info = env.reset(train_mode=True)[brain_name]\n",
    "action_size = brain.vector_action_space_size\n",
    "state = env_info.vector_observations[0]\n",
    "state_size = len(state)"
   ]
  },
  {
   "cell_type": "code",
   "execution_count": 6,
   "metadata": {},
   "outputs": [],
   "source": [
    "agent = Agent(state_size=state_size, action_size=action_size, seed=0)"
   ]
  },
  {
   "cell_type": "code",
   "execution_count": null,
   "metadata": {},
   "outputs": [
    {
     "name": "stdout",
     "output_type": "stream",
     "text": [
      "Episode 38\tAverage Score: 0.326"
     ]
    }
   ],
   "source": [
    "scores = dqn(env)"
   ]
  },
  {
   "cell_type": "code",
   "execution_count": null,
   "metadata": {},
   "outputs": [],
   "source": [
    "fig = plt.figure()\n",
    "ax = fig.add_subplot(111)\n",
    "plt.plot(np.arange(len(scores)), scores)\n",
    "plt.xlabel('Episodes')\n",
    "plt.ylabel('Score')\n",
    "plt.show()"
   ]
  },
  {
   "cell_type": "code",
   "execution_count": null,
   "metadata": {},
   "outputs": [],
   "source": []
  }
 ],
 "metadata": {
  "kernelspec": {
   "display_name": "Python 3",
   "language": "python",
   "name": "python3"
  },
  "language_info": {
   "codemirror_mode": {
    "name": "ipython",
    "version": 3
   },
   "file_extension": ".py",
   "mimetype": "text/x-python",
   "name": "python",
   "nbconvert_exporter": "python",
   "pygments_lexer": "ipython3",
   "version": "3.6.8"
  }
 },
 "nbformat": 4,
 "nbformat_minor": 2
}
